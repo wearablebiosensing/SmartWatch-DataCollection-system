{
 "cells": [
  {
   "cell_type": "code",
   "execution_count": 1,
   "id": "abc780d4",
   "metadata": {},
   "outputs": [],
   "source": [
    "import json\n",
    "import glob\n",
    "import os\n",
    "import calendar"
   ]
  },
  {
   "cell_type": "code",
   "execution_count": 2,
   "id": "4e452347",
   "metadata": {},
   "outputs": [],
   "source": [
    "import numpy as np \n",
    "import pandas as pd                  # for DataFrames\n",
    "from numpy.linalg import eig\n",
    "import matplotlib.pyplot as plt"
   ]
  },
  {
   "cell_type": "code",
   "execution_count": 3,
   "id": "8e5985a6",
   "metadata": {},
   "outputs": [],
   "source": [
    "from sklearn import preprocessing\n",
    "import scipy.fftpack                 # discrete Fourier transforms\n",
    "from scipy import signal\n",
    "from scipy.signal import find_peaks\n",
    "from scipy.signal import butter, lfilter\n",
    "from scipy.signal import find_peaks, peak_prominences\n",
    "from scipy.signal import chirp, peak_widths"
   ]
  },
  {
   "cell_type": "code",
   "execution_count": 4,
   "id": "f8c0829c",
   "metadata": {},
   "outputs": [],
   "source": [
    "import plotly.express as px\n",
    "import plotly.graph_objects as go\n",
    "import plotly.figure_factory as ff\n",
    "from plotly.subplots import make_subplots\n"
   ]
  },
  {
   "cell_type": "code",
   "execution_count": 5,
   "id": "5fec7524",
   "metadata": {},
   "outputs": [],
   "source": [
    "import re"
   ]
  },
  {
   "cell_type": "code",
   "execution_count": 9,
   "id": "0b71ea25",
   "metadata": {},
   "outputs": [],
   "source": [
    "# Directory path\n",
    "day = \"Emulator/05-02-2024\"\n",
    "directory_path = \"/Users/shehjarsadhu/Desktop/UniversityOfRhodeIsland/Graduate/WBL/Project_Carehub/Carewear-DataTesting2024/\" + day\n"
   ]
  },
  {
   "cell_type": "code",
   "execution_count": 10,
   "id": "45cd54d3",
   "metadata": {},
   "outputs": [],
   "source": [
    "def file_count(directory_path, specific_string):\n",
    "    # Get all files in the directory\n",
    "    files = os.listdir(directory_path)\n",
    "    # Filter files containing the specific string in the name\n",
    "    filtered_files = [file for file in files if specific_string in file]\n",
    "    # Initialize an empty Pandas DataFrame\n",
    "    df = pd.DataFrame()\n",
    "    # Loop through the filtered files and read them into the DataFrame\n",
    "    for file in filtered_files:\n",
    "        file_path = os.path.join(directory_path, file)\n",
    "        # Assuming the files are CSV, you can adjust the read function accordingly\n",
    "        temp_df = pd.read_csv(file_path)\n",
    "        df = pd.concat([df, temp_df], ignore_index=True)\n",
    "    # Display the DataFrame\n",
    "    print(df)\n",
    "    # Display the count of files containing the specific string\n",
    "    print(f\"Number of files containing '{specific_string}': {len(filtered_files)}\")\n",
    "    return len(filtered_files)"
   ]
  },
  {
   "cell_type": "code",
   "execution_count": 11,
   "id": "b3f7913d",
   "metadata": {},
   "outputs": [
    {
     "name": "stdout",
     "output_type": "stream",
     "text": [
      "          X         Y         Z event.timestamp                Timestamp\n",
      "0       0.0  9.776321  0.812345                  2024-02-05 14:05:11.660\n",
      "1       0.0  9.776321  0.812345                  2024-02-05 14:05:11.693\n",
      "2       0.0  9.776321  0.812345                  2024-02-05 14:05:11.726\n",
      "3       0.0  9.776321  0.812345                  2024-02-05 14:05:11.760\n",
      "4       0.0  9.776321  0.812345                  2024-02-05 14:05:11.791\n",
      "...     ...       ...       ...             ...                      ...\n",
      "108643  0.0  9.776321  0.812345                  2024-02-05 14:20:11.985\n",
      "108644  0.0  9.776321  0.812345                  2024-02-05 14:20:12.017\n",
      "108645  0.0  9.776321  0.812345                  2024-02-05 14:20:12.054\n",
      "108646  0.0  9.776321  0.812345                  2024-02-05 14:20:12.084\n",
      "108647  0.0  9.776321  0.812345                  2024-02-05 14:20:12.116\n",
      "\n",
      "[108648 rows x 5 columns]\n",
      "Number of files containing 'acc': 13\n"
     ]
    }
   ],
   "source": [
    "file_count_acc = file_count(directory_path, \"acc\")"
   ]
  },
  {
   "cell_type": "code",
   "execution_count": 13,
   "id": "0e258e29",
   "metadata": {},
   "outputs": [
    {
     "name": "stdout",
     "output_type": "stream",
     "text": [
      "          X    Y    Z  event.timestamp                Timestamp\n",
      "0       0.0  0.0  0.0   18358960109512  2024-02-05 13:30:10.207\n",
      "1       0.0  0.0  0.0   18358993442512  2024-02-05 13:30:10.243\n",
      "2       0.0  0.0  0.0   18359026775512  2024-02-05 13:30:10.276\n",
      "3       0.0  0.0  0.0   18359060108512  2024-02-05 13:30:10.309\n",
      "4       0.0  0.0  0.0   18359093441512  2024-02-05 13:30:10.342\n",
      "...     ...  ...  ...              ...                      ...\n",
      "108015  0.0  0.0  0.0   18959054108512  2024-02-05 13:40:10.302\n",
      "108016  0.0  0.0  0.0   18959087441512  2024-02-05 13:40:10.337\n",
      "108017  0.0  0.0  0.0   18959120774512  2024-02-05 13:40:10.370\n",
      "108018  0.0  0.0  0.0   18959154107512  2024-02-05 13:40:10.403\n",
      "108019  0.0  0.0  0.0   18959187440512  2024-02-05 13:40:10.435\n",
      "\n",
      "[108020 rows x 5 columns]\n",
      "Number of files containing 'gry': 13\n"
     ]
    }
   ],
   "source": [
    "file_count_gry = file_count(directory_path, \"gry\")"
   ]
  },
  {
   "cell_type": "code",
   "execution_count": 14,
   "id": "b4429fa0",
   "metadata": {},
   "outputs": [
    {
     "name": "stdout",
     "output_type": "stream",
     "text": [
      "    HeartRate                Timestamp\n",
      "0         0.0  2024-02-05 13:25:09.653\n",
      "1         0.0  2024-02-05 13:25:09.653\n",
      "2         0.0  2024-02-05 13:25:09.653\n",
      "3         0.0  2024-02-05 13:25:09.653\n",
      "4         0.0  2024-02-05 13:25:09.653\n",
      "5         0.0  2024-02-05 13:25:09.653\n",
      "6         0.0  2024-02-05 13:25:09.653\n",
      "7         0.0  2024-02-05 13:25:09.653\n",
      "8         0.0  2024-02-05 13:25:09.653\n",
      "9         0.0  2024-02-05 13:25:09.653\n",
      "10        0.0  2024-02-05 13:25:09.653\n",
      "11        0.0  2024-02-05 13:25:09.653\n",
      "12        0.0  2024-02-05 13:25:09.653\n",
      "Number of files containing 'heart_rate': 13\n"
     ]
    }
   ],
   "source": [
    "file_count_hr = file_count(directory_path, \"heart_rate\")"
   ]
  },
  {
   "cell_type": "code",
   "execution_count": null,
   "id": "8967667e",
   "metadata": {},
   "outputs": [],
   "source": []
  },
  {
   "cell_type": "code",
   "execution_count": null,
   "id": "8bf0756c",
   "metadata": {},
   "outputs": [],
   "source": []
  },
  {
   "cell_type": "code",
   "execution_count": null,
   "id": "c28ed5ef",
   "metadata": {},
   "outputs": [],
   "source": []
  },
  {
   "cell_type": "code",
   "execution_count": null,
   "id": "602bb079",
   "metadata": {},
   "outputs": [],
   "source": []
  },
  {
   "cell_type": "code",
   "execution_count": null,
   "id": "659e6ad3",
   "metadata": {},
   "outputs": [],
   "source": []
  },
  {
   "cell_type": "code",
   "execution_count": null,
   "id": "475bf702",
   "metadata": {},
   "outputs": [],
   "source": []
  },
  {
   "cell_type": "code",
   "execution_count": null,
   "id": "e67dd331",
   "metadata": {},
   "outputs": [],
   "source": []
  }
 ],
 "metadata": {
  "kernelspec": {
   "display_name": "Python 3 (ipykernel)",
   "language": "python",
   "name": "python3"
  },
  "language_info": {
   "codemirror_mode": {
    "name": "ipython",
    "version": 3
   },
   "file_extension": ".py",
   "mimetype": "text/x-python",
   "name": "python",
   "nbconvert_exporter": "python",
   "pygments_lexer": "ipython3",
   "version": "3.7.13"
  },
  "varInspector": {
   "cols": {
    "lenName": 16,
    "lenType": 16,
    "lenVar": 40
   },
   "kernels_config": {
    "python": {
     "delete_cmd_postfix": "",
     "delete_cmd_prefix": "del ",
     "library": "var_list.py",
     "varRefreshCmd": "print(var_dic_list())"
    },
    "r": {
     "delete_cmd_postfix": ") ",
     "delete_cmd_prefix": "rm(",
     "library": "var_list.r",
     "varRefreshCmd": "cat(var_dic_list()) "
    }
   },
   "types_to_exclude": [
    "module",
    "function",
    "builtin_function_or_method",
    "instance",
    "_Feature"
   ],
   "window_display": false
  }
 },
 "nbformat": 4,
 "nbformat_minor": 5
}
