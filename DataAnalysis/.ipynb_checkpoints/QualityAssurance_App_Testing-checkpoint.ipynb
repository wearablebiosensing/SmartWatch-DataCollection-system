{
 "cells": [
  {
   "cell_type": "code",
   "execution_count": 1,
   "id": "16f7e79c",
   "metadata": {},
   "outputs": [],
   "source": [
    "import json\n",
    "import glob\n",
    "import os\n",
    "import calendar"
   ]
  },
  {
   "cell_type": "code",
   "execution_count": 2,
   "id": "423a9d43",
   "metadata": {},
   "outputs": [],
   "source": [
    "import numpy as np \n",
    "import pandas as pd                  # for DataFrames\n",
    "from numpy.linalg import eig\n",
    "import matplotlib.pyplot as plt"
   ]
  },
  {
   "cell_type": "code",
   "execution_count": 3,
   "id": "1d17baa3",
   "metadata": {},
   "outputs": [],
   "source": [
    "from sklearn import preprocessing\n",
    "import scipy.fftpack                 # discrete Fourier transforms\n",
    "from scipy import signal\n",
    "from scipy.signal import find_peaks\n",
    "from scipy.signal import butter, lfilter\n",
    "from scipy.signal import find_peaks, peak_prominences\n",
    "from scipy.signal import chirp, peak_widths"
   ]
  },
  {
   "cell_type": "code",
   "execution_count": 4,
   "id": "5331e6e1",
   "metadata": {},
   "outputs": [],
   "source": [
    "import plotly.express as px\n",
    "import plotly.graph_objects as go\n",
    "import plotly.figure_factory as ff\n",
    "from plotly.subplots import make_subplots\n"
   ]
  },
  {
   "cell_type": "code",
   "execution_count": 5,
   "id": "fed5da73",
   "metadata": {},
   "outputs": [],
   "source": [
    "import re"
   ]
  },
  {
   "cell_type": "code",
   "execution_count": 8,
   "id": "e73743ee",
   "metadata": {},
   "outputs": [],
   "source": [
    "# Directory path\n",
    "day = \"07-13-2023\"\n",
    "directory_path = \"/Users/shehjarsadhu/Desktop/UniversityOfRhodeIsland/Graduate/WBL/Project_Carehub/Carewear-DataTesting2024/\" + day\n",
    "# Specific string to check in the file names\n",
    "specific_string = \"your_specific_string\""
   ]
  },
  {
   "cell_type": "code",
   "execution_count": 7,
   "id": "863817b7",
   "metadata": {},
   "outputs": [],
   "source": [
    "def file_count(directory_path, specific_string):\n",
    "    \n",
    "    # Get all files in the directory\n",
    "    files = os.listdir(directory_path)\n",
    "    # Filter files containing the specific string in the name\n",
    "    filtered_files = [file for file in files if specific_string in file]\n",
    "    # Initialize an empty Pandas DataFrame\n",
    "    df = pd.DataFrame()\n",
    "    # Loop through the filtered files and read them into the DataFrame\n",
    "    for file in filtered_files:\n",
    "        file_path = os.path.join(directory_path, file)\n",
    "        # Assuming the files are CSV, you can adjust the read function accordingly\n",
    "        temp_df = pd.read_csv(file_path)\n",
    "        df = pd.concat([df, temp_df], ignore_index=True)\n",
    "    # Display the DataFrame\n",
    "    print(df)\n",
    "    # Display the count of files containing the specific string\n",
    "    print(f\"Number of files containing '{specific_string}': {len(filtered_files)}\")\n",
    "    return len(filtered_files)"
   ]
  },
  {
   "cell_type": "code",
   "execution_count": null,
   "id": "00bf9991",
   "metadata": {},
   "outputs": [],
   "source": [
    "file_count_acc = file_count(directory_path, \"acc\")"
   ]
  },
  {
   "cell_type": "code",
   "execution_count": null,
   "id": "38234dda",
   "metadata": {},
   "outputs": [],
   "source": [
    "file_count_gry = file_count(directory_path, \"gry\")"
   ]
  },
  {
   "cell_type": "code",
   "execution_count": null,
   "id": "304c3089",
   "metadata": {},
   "outputs": [],
   "source": [
    "file_count_hr = file_count(directory_path, \"hr\")"
   ]
  },
  {
   "cell_type": "code",
   "execution_count": null,
   "id": "e66936eb",
   "metadata": {},
   "outputs": [],
   "source": []
  },
  {
   "cell_type": "code",
   "execution_count": null,
   "id": "48bd24c6",
   "metadata": {},
   "outputs": [],
   "source": []
  },
  {
   "cell_type": "code",
   "execution_count": null,
   "id": "aaf26e41",
   "metadata": {},
   "outputs": [],
   "source": []
  },
  {
   "cell_type": "code",
   "execution_count": null,
   "id": "47e5a1c7",
   "metadata": {},
   "outputs": [],
   "source": []
  },
  {
   "cell_type": "code",
   "execution_count": null,
   "id": "6e33a66e",
   "metadata": {},
   "outputs": [],
   "source": []
  },
  {
   "cell_type": "code",
   "execution_count": null,
   "id": "e725e799",
   "metadata": {},
   "outputs": [],
   "source": []
  },
  {
   "cell_type": "code",
   "execution_count": null,
   "id": "47d1fb0b",
   "metadata": {},
   "outputs": [],
   "source": []
  }
 ],
 "metadata": {
  "kernelspec": {
   "display_name": "Python 3 (ipykernel)",
   "language": "python",
   "name": "python3"
  },
  "language_info": {
   "codemirror_mode": {
    "name": "ipython",
    "version": 3
   },
   "file_extension": ".py",
   "mimetype": "text/x-python",
   "name": "python",
   "nbconvert_exporter": "python",
   "pygments_lexer": "ipython3",
   "version": "3.7.13"
  },
  "varInspector": {
   "cols": {
    "lenName": 16,
    "lenType": 16,
    "lenVar": 40
   },
   "kernels_config": {
    "python": {
     "delete_cmd_postfix": "",
     "delete_cmd_prefix": "del ",
     "library": "var_list.py",
     "varRefreshCmd": "print(var_dic_list())"
    },
    "r": {
     "delete_cmd_postfix": ") ",
     "delete_cmd_prefix": "rm(",
     "library": "var_list.r",
     "varRefreshCmd": "cat(var_dic_list()) "
    }
   },
   "types_to_exclude": [
    "module",
    "function",
    "builtin_function_or_method",
    "instance",
    "_Feature"
   ],
   "window_display": false
  }
 },
 "nbformat": 4,
 "nbformat_minor": 5
}
