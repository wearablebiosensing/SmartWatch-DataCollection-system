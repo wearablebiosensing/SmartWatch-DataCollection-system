{
 "cells": [
  {
   "cell_type": "code",
   "execution_count": 1,
   "id": "3a28ef41",
   "metadata": {},
   "outputs": [],
   "source": []
  },
  {
   "cell_type": "code",
   "execution_count": 7,
   "id": "3e1013fc",
   "metadata": {},
   "outputs": [],
   "source": [
    "import json\n",
    "import glob\n",
    "import os\n",
    "import calendar"
   ]
  },
  {
   "cell_type": "code",
   "execution_count": 4,
   "id": "51d74105",
   "metadata": {},
   "outputs": [],
   "source": [
    "import numpy as np \n",
    "import pandas as pd                  # for DataFrames\n",
    "from numpy.linalg import eig\n",
    "import matplotlib.pyplot as plt"
   ]
  },
  {
   "cell_type": "code",
   "execution_count": 5,
   "id": "899ff89f",
   "metadata": {},
   "outputs": [],
   "source": [
    "from sklearn import preprocessing\n",
    "import scipy.fftpack                 # discrete Fourier transforms\n",
    "from scipy import signal\n",
    "from scipy.signal import find_peaks\n",
    "from scipy.signal import butter, lfilter\n",
    "from scipy.signal import find_peaks, peak_prominences\n",
    "from scipy.signal import chirp, peak_widths"
   ]
  },
  {
   "cell_type": "code",
   "execution_count": 6,
   "id": "84df077b",
   "metadata": {},
   "outputs": [],
   "source": [
    "import plotly.express as px\n",
    "import plotly.graph_objects as go\n",
    "import plotly.figure_factory as ff\n",
    "from plotly.subplots import make_subplots"
   ]
  },
  {
   "cell_type": "code",
   "execution_count": 20,
   "id": "1913c42c",
   "metadata": {},
   "outputs": [],
   "source": [
    "import re"
   ]
  },
  {
   "cell_type": "code",
   "execution_count": 16,
   "id": "c0073a9c",
   "metadata": {},
   "outputs": [],
   "source": [
    "\n",
    "root = \"/Users/shehjarsadhu/Desktop/UniversityOfRhodeIsland/Graduate/WBL/Project_Carehub/TestingData/23-24_05_2023/23-05-2023\"\n",
    "\n",
    "\n"
   ]
  },
  {
   "cell_type": "code",
   "execution_count": 17,
   "id": "9d656a26",
   "metadata": {},
   "outputs": [],
   "source": [
    "path_csv = os.listdir(root)"
   ]
  },
  {
   "cell_type": "code",
   "execution_count": null,
   "id": "bb3888b2",
   "metadata": {},
   "outputs": [],
   "source": []
  },
  {
   "cell_type": "code",
   "execution_count": 44,
   "id": "6c4cf166",
   "metadata": {},
   "outputs": [],
   "source": [
    "count_hr = 0\n",
    "df_hr_list_all = []\n",
    "count_acc = 0\n",
    "df_acc_list_all =[]\n",
    "count_gry = 0\n",
    "df_gry_list_all = []\n",
    "for i in path_csv:\n",
    "    if re.search('hr', i):#i.contains(\"hr\"):\n",
    "        count_hr +=1\n",
    "        df_hr = pd.read_csv(root + \"/\"+i)\n",
    "        df_hr_list_all.append(df_hr)\n",
    "#         print(i)\n",
    "    if re.search('acc', i):\n",
    "        count_acc +=1\n",
    "        df_acc = pd.read_csv(root + \"/\" +i)\n",
    "        df_acc_list_all.append(df_acc)\n",
    "    if re.search('gry', i):\n",
    "        count_gry+=1\n",
    "        df_gry = pd.read_csv(root + \"/\"+i)\n",
    "        df_gry_list_all.append(df_gry)\n"
   ]
  },
  {
   "cell_type": "code",
   "execution_count": 45,
   "id": "05faed8f",
   "metadata": {},
   "outputs": [
    {
     "name": "stdout",
     "output_type": "stream",
     "text": [
      "17 17 17\n"
     ]
    }
   ],
   "source": [
    "print(count_hr,count_acc,count_gry)"
   ]
  },
  {
   "cell_type": "code",
   "execution_count": 74,
   "id": "cdf7fe48",
   "metadata": {},
   "outputs": [],
   "source": [
    "hr_df = pd.concat(df_hr_list_all)\n",
    "acc_df = pd.concat(df_acc_list_all)\n",
    "gry_df = pd.concat(df_gry_list_all)"
   ]
  },
  {
   "cell_type": "code",
   "execution_count": null,
   "id": "50fb5e45",
   "metadata": {},
   "outputs": [],
   "source": []
  },
  {
   "cell_type": "code",
   "execution_count": 75,
   "id": "a8d602a2",
   "metadata": {},
   "outputs": [
    {
     "name": "stdout",
     "output_type": "stream",
     "text": [
      "hr_df.shape,acc_df.shape,gry_df.shape:  (20786, 2) (590229, 4) (590233, 4)\n"
     ]
    }
   ],
   "source": [
    "print(\"hr_df.shape,acc_df.shape,gry_df.shape: \",hr_df.shape,acc_df.shape,gry_df.shape)\n"
   ]
  },
  {
   "cell_type": "code",
   "execution_count": 100,
   "id": "959209a8",
   "metadata": {},
   "outputs": [],
   "source": [
    "hr_df = hr_df.sort_values(\"Timestamp\")\n",
    "acc_df = acc_df.sort_values(\"Timestamp\")\n",
    "gry_df = gry_df.sort_values(\"Timestamp\")\n",
    "hr_df.to_csv(root)"
   ]
  },
  {
   "cell_type": "code",
   "execution_count": 101,
   "id": "33937a54",
   "metadata": {},
   "outputs": [
    {
     "name": "stdout",
     "output_type": "stream",
     "text": [
      "21028.999 Seconds\n",
      "5.841388611111111 Hours\n"
     ]
    }
   ],
   "source": [
    "# The time in nanoseconds at which the event happened. For a given sensor, \n",
    "# each new sensor event should be monotonically increasing using the same\n",
    "# time base as SystemClock.elapsedRealtimeNanos().\n",
    "\n",
    "hr_start_ts = hr_df.iloc[0][\"Timestamp\"]\n",
    "hr_stop_ts = hr_df.iloc[hr_df.shape[0]-1][\"Timestamp\"]\n",
    "total_time_collected_hr = (hr_stop_ts - hr_start_ts)/1000000000\n",
    "print(total_time_collected_hr , \"Seconds\")\n",
    "print(total_time_collected_hr/3600 , \"Hours\")"
   ]
  },
  {
   "cell_type": "code",
   "execution_count": 102,
   "id": "50c57921",
   "metadata": {},
   "outputs": [
    {
     "data": {
      "text/plain": [
       "23914940000000"
      ]
     },
     "execution_count": 102,
     "metadata": {},
     "output_type": "execute_result"
    }
   ],
   "source": [
    "hr_stop_ts"
   ]
  },
  {
   "cell_type": "code",
   "execution_count": 103,
   "id": "3f453485",
   "metadata": {},
   "outputs": [
    {
     "name": "stdout",
     "output_type": "stream",
     "text": [
      "23123.886643693 Seconds\n",
      "6.423301845470278 Hours\n"
     ]
    }
   ],
   "source": [
    "acc_start_ts = acc_df.iloc[0][\"Timestamp\"]\n",
    "acc_stop_ts = acc_df.iloc[acc_df.shape[0]-1][\"Timestamp\"]\n",
    "total_time_collected_acc = (acc_stop_ts - acc_start_ts)/1000000000\n",
    "print(total_time_collected_acc , \"Seconds\")\n",
    "print(total_time_collected_acc/3600 , \"Hours\")"
   ]
  },
  {
   "cell_type": "code",
   "execution_count": 104,
   "id": "e84511ae",
   "metadata": {},
   "outputs": [
    {
     "name": "stdout",
     "output_type": "stream",
     "text": [
      "23123.886643692 Seconds\n",
      "6.42330184547 Hours\n"
     ]
    }
   ],
   "source": [
    "gry_start_ts = gry_df.iloc[0][\"Timestamp\"]\n",
    "gry_stop_ts = gry_df.iloc[gry_df.shape[0]-1][\"Timestamp\"]\n",
    "total_time_collected_gry = (gry_stop_ts - gry_start_ts)/1000000000\n",
    "print(total_time_collected_gry , \"Seconds\")\n",
    "print(total_time_collected_gry/3600 , \"Hours\")"
   ]
  },
  {
   "cell_type": "code",
   "execution_count": null,
   "id": "a3d0bb94",
   "metadata": {},
   "outputs": [],
   "source": []
  },
  {
   "cell_type": "code",
   "execution_count": null,
   "id": "921b7f06",
   "metadata": {},
   "outputs": [],
   "source": []
  },
  {
   "cell_type": "code",
   "execution_count": null,
   "id": "66b2bbf7",
   "metadata": {},
   "outputs": [],
   "source": []
  },
  {
   "cell_type": "code",
   "execution_count": null,
   "id": "4f74b29f",
   "metadata": {},
   "outputs": [],
   "source": []
  },
  {
   "cell_type": "code",
   "execution_count": null,
   "id": "9a66c5e9",
   "metadata": {},
   "outputs": [],
   "source": []
  },
  {
   "cell_type": "code",
   "execution_count": null,
   "id": "96d8abca",
   "metadata": {},
   "outputs": [],
   "source": []
  },
  {
   "cell_type": "code",
   "execution_count": null,
   "id": "c25cd75f",
   "metadata": {},
   "outputs": [],
   "source": []
  }
 ],
 "metadata": {
  "kernelspec": {
   "display_name": "Python 3",
   "language": "python",
   "name": "python3"
  },
  "language_info": {
   "codemirror_mode": {
    "name": "ipython",
    "version": 3
   },
   "file_extension": ".py",
   "mimetype": "text/x-python",
   "name": "python",
   "nbconvert_exporter": "python",
   "pygments_lexer": "ipython3",
   "version": "3.7.9"
  }
 },
 "nbformat": 4,
 "nbformat_minor": 5
}
